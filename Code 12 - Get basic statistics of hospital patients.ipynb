{
 "cells": [
  {
   "cell_type": "code",
   "execution_count": 13,
   "id": "087e37c1",
   "metadata": {},
   "outputs": [
    {
     "name": "stdout",
     "output_type": "stream",
     "text": [
      "/Users/indup/Downloads\n"
     ]
    }
   ],
   "source": [
    "import os\n",
    "import pandas as pd\n",
    "\n",
    "current_directory = os.getcwd()\n",
    "print(current_directory)"
   ]
  },
  {
   "cell_type": "code",
   "execution_count": 14,
   "id": "82a474d6",
   "metadata": {},
   "outputs": [],
   "source": [
    "#Change working directory\n",
    "new_directory_path = '/Users/indup'\n",
    "os.chdir(new_directory_path)"
   ]
  },
  {
   "cell_type": "code",
   "execution_count": 15,
   "id": "b1722337",
   "metadata": {},
   "outputs": [
    {
     "name": "stdout",
     "output_type": "stream",
     "text": [
      "/Users/indup\n"
     ]
    }
   ],
   "source": [
    "updated_dir = os.getcwd()\n",
    "print(updated_dir)"
   ]
  },
  {
   "cell_type": "code",
   "execution_count": 16,
   "id": "e87fc919",
   "metadata": {},
   "outputs": [
    {
     "name": "stdout",
     "output_type": "stream",
     "text": [
      "Name, Age, Gender, BloodPressure, Temperature\n",
      "John Doe, 45, Male, 120/80, 36.8\n",
      "Jane Smith, 32, Female, 130/85, 37.2\n",
      "Alice Johnson, 50, Female, 140/90, 36.5\n",
      "Michael Brown, 55, Male, 135/82, 37.0\n",
      "Emily Wilson, 40, Female, 125/78, 36.9\n"
     ]
    }
   ],
   "source": [
    "file_path = 'Week13Assignment.txt'\n",
    "\n",
    "try:\n",
    "    with open(file_path, \"r\") as file:\n",
    "        content = file.read()\n",
    "        print(content)\n",
    "except FileNotFoundError:\n",
    "    print(f\"File '{file_path}' not found.\")\n",
    "except IOError:\n",
    "    print('An error occurred while reading the file.')"
   ]
  },
  {
   "cell_type": "code",
   "execution_count": 17,
   "id": "cb19ab2f",
   "metadata": {},
   "outputs": [],
   "source": [
    "#Avg age of patients\n",
    "df = pd.read_csv(file_path)"
   ]
  },
  {
   "cell_type": "code",
   "execution_count": 18,
   "id": "a367e692",
   "metadata": {},
   "outputs": [
    {
     "name": "stdout",
     "output_type": "stream",
     "text": [
      "            Name   Age   Gender  BloodPressure   Temperature\n",
      "0       John Doe    45     Male         120/80          36.8\n",
      "1     Jane Smith    32   Female         130/85          37.2\n",
      "2  Alice Johnson    50   Female         140/90          36.5\n",
      "3  Michael Brown    55     Male         135/82          37.0\n",
      "4   Emily Wilson    40   Female         125/78          36.9\n"
     ]
    }
   ],
   "source": [
    "print(df)"
   ]
  },
  {
   "cell_type": "code",
   "execution_count": 19,
   "id": "ef41c748",
   "metadata": {},
   "outputs": [
    {
     "name": "stdout",
     "output_type": "stream",
     "text": [
      "Index(['Name', ' Age', ' Gender', ' BloodPressure', ' Temperature'], dtype='object')\n"
     ]
    }
   ],
   "source": [
    "print(df.columns)"
   ]
  },
  {
   "cell_type": "code",
   "execution_count": 21,
   "id": "17a45336",
   "metadata": {},
   "outputs": [
    {
     "name": "stdout",
     "output_type": "stream",
     "text": [
      "44.4\n"
     ]
    }
   ],
   "source": [
    "#Avg age\n",
    "average_age = df[' Age'].mean()\n",
    "print(average_age)"
   ]
  },
  {
   "cell_type": "code",
   "execution_count": 22,
   "id": "feb5c554",
   "metadata": {},
   "outputs": [
    {
     "name": "stdout",
     "output_type": "stream",
     "text": [
      "The number of male patients is 2 and the number of female patients is 3. \n"
     ]
    }
   ],
   "source": [
    "male = (df[' Gender'] == ' Male').sum()\n",
    "female = (df[' Gender'] == ' Female').sum()\n",
    "print(f\"The number of male patients is {male} and the number of female patients is {female}. \")"
   ]
  },
  {
   "cell_type": "code",
   "execution_count": 25,
   "id": "e42624d6",
   "metadata": {},
   "outputs": [
    {
     "name": "stdout",
     "output_type": "stream",
     "text": [
      "The highest blood pressure is  140/90.\n"
     ]
    }
   ],
   "source": [
    "# Get the highest blood pressure\n",
    "max_bp = max(df[' BloodPressure'])\n",
    "print(f\"The highest blood pressure is {max_bp}.\")"
   ]
  },
  {
   "cell_type": "code",
   "execution_count": 26,
   "id": "1c18b5d0",
   "metadata": {},
   "outputs": [
    {
     "name": "stdout",
     "output_type": "stream",
     "text": [
      "The lowest blood pressure is  120/80.\n"
     ]
    }
   ],
   "source": [
    "#Low BP\n",
    "low_bp = min(df[' BloodPressure'])\n",
    "print(f\"The lowest blood pressure is {low_bp}.\")"
   ]
  },
  {
   "cell_type": "code",
   "execution_count": 27,
   "id": "2afd1870",
   "metadata": {},
   "outputs": [
    {
     "name": "stdout",
     "output_type": "stream",
     "text": [
      "The average temperature is 36.88.\n"
     ]
    }
   ],
   "source": [
    "#Avg Temp\n",
    "\n",
    "average_temp = df[' Temperature'].mean()\n",
    "print(f\"The average temperature is {average_temp}.\")"
   ]
  },
  {
   "cell_type": "code",
   "execution_count": null,
   "id": "9cb1d68e",
   "metadata": {},
   "outputs": [],
   "source": []
  }
 ],
 "metadata": {
  "kernelspec": {
   "display_name": "Python 3 (ipykernel)",
   "language": "python",
   "name": "python3"
  },
  "language_info": {
   "codemirror_mode": {
    "name": "ipython",
    "version": 3
   },
   "file_extension": ".py",
   "mimetype": "text/x-python",
   "name": "python",
   "nbconvert_exporter": "python",
   "pygments_lexer": "ipython3",
   "version": "3.10.9"
  }
 },
 "nbformat": 4,
 "nbformat_minor": 5
}
