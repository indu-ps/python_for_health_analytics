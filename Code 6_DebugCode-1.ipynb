{
 "cells": [
  {
   "cell_type": "code",
   "execution_count": null,
   "id": "52bbedfe",
   "metadata": {},
   "outputs": [],
   "source": [
    "# Function to check if a number is prime\n",
    "def is_prime(number):\n",
    "    if number <= 1:\n",
    "        return False\n",
    "    for i in range(2, number):\n",
    "        if number % i == 0:\n",
    "            #the error was fixed by adding an extra equal sign here to test for equality and not define it\n",
    "            return False\n",
    "    return True"
   ]
  },
  {
   "cell_type": "code",
   "execution_count": null,
   "id": "19cc225c",
   "metadata": {},
   "outputs": [],
   "source": [
    "# Main program\n",
    "print(\"Prime Number Finder\")"
   ]
  },
  {
   "cell_type": "code",
   "execution_count": null,
   "id": "b58ecb2e",
   "metadata": {},
   "outputs": [],
   "source": [
    "# Get user input\n",
    "start = int(input(\"Enter the starting number: \"))\n",
    "end = int(input(\"Enter the ending number: \"))"
   ]
  },
  {
   "cell_type": "code",
   "execution_count": null,
   "id": "e00dbe89",
   "metadata": {},
   "outputs": [],
   "source": [
    "# Swap start and end if start is greater\n",
    "if start > end:\n",
    "    temp = start\n",
    "    start = end\n",
    "    end = temp"
   ]
  },
  {
   "cell_type": "code",
   "execution_count": null,
   "id": "09869dbd",
   "metadata": {},
   "outputs": [],
   "source": [
    "# Find and print prime numbers\n",
    "print(f\"Prime numbers between {start} and {end}:\")\n",
    "for num in range(start, end + 1):\n",
    "    if is_prime(num):\n",
    "        print(num, end=\" \")"
   ]
  }
 ],
 "metadata": {
  "kernelspec": {
   "display_name": "Python 3 (ipykernel)",
   "language": "python",
   "name": "python3"
  },
  "language_info": {
   "codemirror_mode": {
    "name": "ipython",
    "version": 3
   },
   "file_extension": ".py",
   "mimetype": "text/x-python",
   "name": "python",
   "nbconvert_exporter": "python",
   "pygments_lexer": "ipython3",
   "version": "3.10.9"
  }
 },
 "nbformat": 4,
 "nbformat_minor": 5
}
